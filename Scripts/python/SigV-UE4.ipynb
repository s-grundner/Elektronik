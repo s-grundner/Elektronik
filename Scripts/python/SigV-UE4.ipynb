{
 "cells": [
  {
   "cell_type": "code",
   "execution_count": 4,
   "id": "f251f9a9-fd5d-455d-8a76-08af7b64d898",
   "metadata": {},
   "outputs": [],
   "source": [
    "import scipy.signal as sc\n",
    "from numpy import real, imag\n",
    "import matplotlib.pyplot as plt"
   ]
  },
  {
   "cell_type": "code",
   "execution_count": 2,
   "id": "20ca3d4c-59f2-4257-a513-dbac2cf4e4ec",
   "metadata": {},
   "outputs": [],
   "source": [
    "numer = [1/3, -1/8, 0]\n",
    "denom = [1, 1/6, 1/4]\n",
    "r, p, k = sc.residuez(numer, denom)"
   ]
  },
  {
   "cell_type": "code",
   "execution_count": 3,
   "id": "442e5723-4ff0-4adf-bb28-ea286f1db138",
   "metadata": {},
   "outputs": [
    {
     "data": {
      "text/plain": [
       "(array([0.16666667+0.15494495j, 0.16666667-0.15494495j]),\n",
       " array([-0.08333333+0.49300665j, -0.08333333-0.49300665j]))"
      ]
     },
     "execution_count": 3,
     "metadata": {},
     "output_type": "execute_result"
    }
   ],
   "source": [
    "r, p"
   ]
  },
  {
   "cell_type": "code",
   "execution_count": 5,
   "id": "1fb9aafa-4d17-4ba5-8a01-65c695ba60ae",
   "metadata": {},
   "outputs": [
    {
     "data": {
      "text/plain": [
       "<matplotlib.collections.PathCollection at 0x7293bbfd02f0>"
      ]
     },
     "execution_count": 5,
     "metadata": {},
     "output_type": "execute_result"
    },
    {
     "data": {
      "image/png": "[encoded data removed]",
      "text/plain": [
       "<Figure size 640x480 with 1 Axes>"
      ]
     },
     "metadata": {},
     "output_type": "display_data"
    }
   ],
   "source": [
    "plt.scatter(real(p), imag(p))\n",
    "plt.plot"
   ]
  },
  {
   "cell_type": "code",
   "execution_count": null,
   "id": "585e0927-e728-463a-bc7b-9aaba0adb441",
   "metadata": {},
   "outputs": [],
   "source": []
  }
 ],
 "metadata": {
  "kernelspec": {
   "display_name": "Python 3 (ipykernel)",
   "language": "python",
   "name": "python3"
  },
  "language_info": {
   "codemirror_mode": {
    "name": "ipython",
    "version": 3
   },
   "file_extension": ".py",
   "mimetype": "text/x-python",
   "name": "python",
   "nbconvert_exporter": "python",
   "pygments_lexer": "ipython3",
   "version": "3.13.3"
  }
 },
 "nbformat": 4,
 "nbformat_minor": 5
}
