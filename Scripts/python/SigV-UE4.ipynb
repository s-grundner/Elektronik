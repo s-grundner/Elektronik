{
 "cells": [
  {
   "cell_type": "code",
   "execution_count": 2,
   "id": "f251f9a9-fd5d-455d-8a76-08af7b64d898",
   "metadata": {},
   "outputs": [],
   "source": [
    "import scipy.signal as sc"
   ]
  },
  {
   "cell_type": "code",
   "execution_count": 23,
   "id": "20ca3d4c-59f2-4257-a513-dbac2cf4e4ec",
   "metadata": {},
   "outputs": [],
   "source": [
    "numer = [0, 5, 0]\n",
    "denom = [1, -1/2, -3/8]\n",
    "r, p, k = sc.residuez(numer, denom)"
   ]
  },
  {
   "cell_type": "code",
   "execution_count": 25,
   "id": "442e5723-4ff0-4adf-bb28-ea286f1db138",
   "metadata": {},
   "outputs": [
    {
     "data": {
      "text/plain": [
       "(array([-3.77964473,  3.77964473]), array([-0.41143783,  0.91143783]))"
      ]
     },
     "execution_count": 25,
     "metadata": {},
     "output_type": "execute_result"
    }
   ],
   "source": [
    "r, p"
   ]
  },
  {
   "cell_type": "code",
   "execution_count": null,
   "id": "02357c6d-26af-4099-8d63-5dcab8ab5253",
   "metadata": {},
   "outputs": [],
   "source": []
  }
 ],
 "metadata": {
  "kernelspec": {
   "display_name": "Python 3 (ipykernel)",
   "language": "python",
   "name": "python3"
  },
  "language_info": {
   "codemirror_mode": {
    "name": "ipython",
    "version": 3
   },
   "file_extension": ".py",
   "mimetype": "text/x-python",
   "name": "python",
   "nbconvert_exporter": "python",
   "pygments_lexer": "ipython3",
   "version": "3.13.3"
  }
 },
 "nbformat": 4,
 "nbformat_minor": 5
}
