{
 "cells": [
  {
   "cell_type": "code",
   "execution_count": 1,
   "id": "f251f9a9-fd5d-455d-8a76-08af7b64d898",
   "metadata": {},
   "outputs": [],
   "source": [
    "import scipy.signal as sc"
   ]
  },
  {
   "cell_type": "code",
   "execution_count": 2,
   "id": "20ca3d4c-59f2-4257-a513-dbac2cf4e4ec",
   "metadata": {},
   "outputs": [],
   "source": [
    "numer = [0, 5, 0]\n",
    "denom = [1, -1/2, -3/8]\n",
    "r, p, k = sc.residuez(numer, denom)"
   ]
  },
  {
   "cell_type": "code",
   "execution_count": 3,
   "id": "442e5723-4ff0-4adf-bb28-ea286f1db138",
   "metadata": {},
   "outputs": [
    {
     "data": {
      "text/plain": [
       "(array([-3.77964473,  3.77964473]), array([-0.41143783,  0.91143783]))"
      ]
     },
     "execution_count": 3,
     "metadata": {},
     "output_type": "execute_result"
    }
   ],
   "source": [
    "r, p"
   ]
  }
 ],
 "metadata": {
  "kernelspec": {
   "display_name": "Python 3",
   "language": "python",
   "name": "python3"
  },
  "language_info": {
   "codemirror_mode": {
    "name": "ipython",
    "version": 3
   },
   "file_extension": ".py",
   "mimetype": "text/x-python",
   "name": "python",
   "nbconvert_exporter": "python",
   "pygments_lexer": "ipython3",
   "version": "3.9.13"
  }
 },
 "nbformat": 4,
 "nbformat_minor": 5
}
