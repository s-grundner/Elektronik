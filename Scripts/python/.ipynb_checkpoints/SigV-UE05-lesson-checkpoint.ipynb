{
 "cells": [
  {
   "cell_type": "code",
   "execution_count": 103,
   "id": "b916c59a-2bc2-45e0-891e-bf7db0f4e4e4",
   "metadata": {},
   "outputs": [],
   "source": [
    "import sympy as sy\n",
    "import scipy.signal as sc\n",
    "from matplotlib.pyplot import *"
   ]
  },
  {
   "cell_type": "markdown",
   "id": "fbc76a57-4a20-4b75-9c7b-fde5c997e6dd",
   "metadata": {},
   "source": [
    "## Aufgabe 1"
   ]
  },
  {
   "cell_type": "code",
   "execution_count": 100,
   "id": "a5fef273-0a6d-43c8-940e-e4900cdc71fd",
   "metadata": {},
   "outputs": [
    {
     "data": {
      "text/latex": [
       "$\\displaystyle \\frac{a b c + 3 z^{3} + z^{2} \\left(- 2 a - 2 b + c\\right) + z \\left(a b - a c - b c\\right)}{z \\left(- a + z\\right) \\left(- b + z\\right)}$"
      ],
      "text/plain": [
       "(a*b*c + 3*z**3 + z**2*(-2*a - 2*b + c) + z*(a*b - a*c - b*c))/(z*(-a + z)*(-b + z))"
      ]
     },
     "execution_count": 100,
     "metadata": {},
     "output_type": "execute_result"
    }
   ],
   "source": [
    "z, a, b, c = sy.symbols('z a b c')\n",
    "Xz = z/(z-a) + z/(z-b) + (c+z)/z\n",
    "Xz = sy.factor(Xz).collect(z)\n",
    "Xz"
   ]
  },
  {
   "cell_type": "code",
   "execution_count": 99,
   "id": "d263c6bf-6d51-4f38-a0ba-74b3c735b103",
   "metadata": {},
   "outputs": [
    {
     "data": {
      "text/latex": [
       "$\\displaystyle a b z - a z^{2} - b z^{2} + z^{3}$"
      ],
      "text/plain": [
       "a*b*z - a*z**2 - b*z**2 + z**3"
      ]
     },
     "execution_count": 99,
     "metadata": {},
     "output_type": "execute_result"
    }
   ],
   "source": [
    "sy.denom(Xz).expand()"
   ]
  },
  {
   "cell_type": "markdown",
   "id": "55855416-70e7-4f34-9aa4-ea01b15c3fd3",
   "metadata": {},
   "source": [
    "## Aufgabe 3"
   ]
  },
  {
   "cell_type": "code",
   "execution_count": 104,
   "id": "0c48b105-b124-4906-9ad8-990ccf3b9351",
   "metadata": {},
   "outputs": [],
   "source": [
    "zeros, poles, gain = sc.tf2zpk([1/4, 1/2, 1],[1, 1/2, 1/4])"
   ]
  },
  {
   "cell_type": "code",
   "execution_count": 115,
   "id": "80127f74-f16d-42c8-ae8a-fbf56c757d3a",
   "metadata": {},
   "outputs": [
    {
     "ename": "AttributeError",
     "evalue": "'Axes' object has no attribute 'xlable'",
     "output_type": "error",
     "traceback": [
      "\u001b[31m---------------------------------------------------------------------------\u001b[39m",
      "\u001b[31mAttributeError\u001b[39m                            Traceback (most recent call last)",
      "\u001b[36mCell\u001b[39m\u001b[36m \u001b[39m\u001b[32mIn[115]\u001b[39m\u001b[32m, line 5\u001b[39m\n\u001b[32m      3\u001b[39m ax.scatter(poles.real,poles.imag, marker=\u001b[33m'\u001b[39m\u001b[33mx\u001b[39m\u001b[33m'\u001b[39m)\n\u001b[32m      4\u001b[39m ax.grid(\u001b[38;5;28;01mTrue\u001b[39;00m)\n\u001b[32m----> \u001b[39m\u001b[32m5\u001b[39m \u001b[43max\u001b[49m\u001b[43m.\u001b[49m\u001b[43mxlable\u001b[49m(\u001b[33m\"\u001b[39m\u001b[33m$Re(z)$\u001b[39m\u001b[33m\"\u001b[39m)\n",
      "\u001b[31mAttributeError\u001b[39m: 'Axes' object has no attribute 'xlable'"
     ]
    },
    {
     "data": {
      "image/png": "[encoded data removed]",
      "text/plain": [
       "<Figure size 640x480 with 1 Axes>"
      ]
     },
     "metadata": {},
     "output_type": "display_data"
    }
   ],
   "source": [
    "fig,ax = subplots()\n",
    "ax.scatter(zeros.real,zeros.imag, marker='o')\n",
    "ax.scatter(poles.real,poles.imag, marker='x')\n",
    "ax.grid(True)\n",
    "ax.xlabel(\"s\")"
   ]
  },
  {
   "cell_type": "code",
   "execution_count": null,
   "id": "37ebb692-abc6-4259-894b-5cbc2a1e1c75",
   "metadata": {},
   "outputs": [],
   "source": []
  }
 ],
 "metadata": {
  "kernelspec": {
   "display_name": "Python 3 (ipykernel)",
   "language": "python",
   "name": "python3"
  },
  "language_info": {
   "codemirror_mode": {
    "name": "ipython",
    "version": 3
   },
   "file_extension": ".py",
   "mimetype": "text/x-python",
   "name": "python",
   "nbconvert_exporter": "python",
   "pygments_lexer": "ipython3",
   "version": "3.13.3"
  }
 },
 "nbformat": 4,
 "nbformat_minor": 5
}
